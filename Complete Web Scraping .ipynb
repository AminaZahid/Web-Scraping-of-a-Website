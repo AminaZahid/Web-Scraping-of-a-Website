{
 "cells": [
  {
   "cell_type": "code",
   "execution_count": 1,
   "id": "f995b7a9",
   "metadata": {},
   "outputs": [
    {
     "name": "stdout",
     "output_type": "stream",
     "text": [
      "this is with html tags : <title>Fun with python programming – A programming language for revolution</title>\n",
      "this is without html tags: Fun with python programming\n",
      "<a class=\"marketing-bar-button\" href=\"https://wordpress.com/start/?ref=marketing_bar\">Get started</a>\n"
     ]
    }
   ],
   "source": [
    "from bs4 import BeautifulSoup\n",
    "import requests\n",
    "url=\"https://getpython.wordpress.com/\"\n",
    "source=requests.get(url)\n",
    "soup=BeautifulSoup(source.text,'html')\n",
    "title=soup.find('title')\n",
    "print(\"this is with html tags :\",title)\n",
    "\n",
    "qwery=soup.find('h1') \n",
    "print(\"this is without html tags:\",qwery.text) \n",
    "\n",
    "\n",
    "links=soup.find('a')\n",
    "print(links)"
   ]
  },
  {
   "cell_type": "code",
   "execution_count": 2,
   "id": "4062598e",
   "metadata": {},
   "outputs": [
    {
     "name": "stdout",
     "output_type": "stream",
     "text": [
      "https://wordpress.com/start/?ref=marketing_bar\n"
     ]
    }
   ],
   "source": [
    "print(links['href']) "
   ]
  },
  {
   "cell_type": "code",
   "execution_count": 3,
   "id": "46d9a649",
   "metadata": {},
   "outputs": [
    {
     "name": "stdout",
     "output_type": "stream",
     "text": [
      "['marketing-bar-button']\n"
     ]
    }
   ],
   "source": [
    "print(links['class'])"
   ]
  },
  {
   "cell_type": "code",
   "execution_count": 4,
   "id": "6d7d9696",
   "metadata": {},
   "outputs": [
    {
     "name": "stdout",
     "output_type": "stream",
     "text": [
      "total links in my website : 100\n",
      "\n",
      "<a class=\"marketing-bar-button\" href=\"https://wordpress.com/start/?ref=marketing_bar\">Get started</a>\n",
      "<a aria-label=\"Create your website at WordPress.com\" class=\"marketing-bar-link\" href=\"https://wordpress.com/start/?ref=marketing_bar\" tabindex=\"-1\"></a>\n",
      "<a class=\"screen-reader-text skip-link\" href=\"#content\">Skip to content</a>\n",
      "<a href=\"https://getpython.wordpress.com/\" rel=\"home\">\n",
      "<div class=\"cover\"></div>\n",
      "</a>\n",
      "<a class=\"screen-reader-text search-toggle\" href=\"#search-container\">Search</a>\n",
      "<a href=\"https://getpython.wordpress.com/\" rel=\"home\">Fun with python programming</a>\n"
     ]
    }
   ],
   "source": [
    "many_link=soup.find_all('a')\n",
    "total_links=len(many_link) \n",
    "print(\"total links in my website :\",total_links)\n",
    "print()\n",
    "for i in many_link[:6]:\n",
    "    print(i)"
   ]
  },
  {
   "cell_type": "code",
   "execution_count": 6,
   "id": "c0662e4e",
   "metadata": {},
   "outputs": [
    {
     "name": "stdout",
     "output_type": "stream",
     "text": [
      "<a aria-label=\"Create your website at WordPress.com\" class=\"marketing-bar-link\" href=\"https://wordpress.com/start/?ref=marketing_bar\" tabindex=\"-1\"></a>\n",
      "\n",
      "href is : https://wordpress.com/start/?ref=marketing_bar\n"
     ]
    }
   ],
   "source": [
    "second_link=many_link[1] \n",
    "print(second_link)\n",
    "print()\n",
    "print(\"href is :\",second_link['href'])"
   ]
  },
  {
   "cell_type": "code",
   "execution_count": 9,
   "id": "b8a00cb6",
   "metadata": {},
   "outputs": [
    {
     "name": "stdout",
     "output_type": "stream",
     "text": [
      "<title>World War II - Wikipedia</title>\n"
     ]
    }
   ],
   "source": [
    "#scaping data from wikipedia\n",
    "wiki=requests.get(\"https://en.wikipedia.org/wiki/World_War_II\")\n",
    "soup=BeautifulSoup(wiki.text,'html')\n",
    "print(soup.find('title'))"
   ]
  },
  {
   "cell_type": "code",
   "execution_count": 13,
   "id": "767a08d9",
   "metadata": {},
   "outputs": [
    {
     "name": "stdout",
     "output_type": "stream",
     "text": [
      "World War IIClockwise from top left: \n",
      "Chinese forces in the Battle of Changde\n",
      "Australian Ordnance QF 25-pounder guns during the First Battle of El Alamein\n",
      "German Stuka dive bombers on the Eastern Front in December 1943\n",
      "US naval force in the Lingayen Gulf\n",
      "Wilhelm Keitel signing the German Instrument of Surrender\n",
      "Soviet troops in the Battle of Stalingrad\n",
      "Date1 September 1939 – 2 September 1945 (1939-09-01 – 1945-09-02)[a](6 years and 1 day)LocationMajor theaters: \n",
      "Europe\n",
      "Pacific\n",
      "Atlantic\n",
      "Indian Ocean\n",
      "South-East Asia\n",
      "China\n",
      "Japan\n",
      "Middle East\n",
      "Mediterranean\n",
      "North Africa\n",
      "Horn of Africa\n",
      "Central Africa\n",
      "Australia\n",
      "Caribbean\n",
      "North and South America\n",
      "Result\n",
      "Allied victory\n",
      "Fall of Nazi Germany, Fascist Italy, and Imperial Japan\n",
      "Allied military occupations of Germany, Japan, Austria, and Korea\n",
      "Beginning of the Nuclear Age\n",
      "Dissolution of the League of Nations and creation of the United Nations\n",
      "Decolonisation of Asia and Africa and decline of European international influence\n",
      "Emergence of the United States and the Soviet Union as rival superpowers and beginning of the Cold War (see Aftermath of World War II)Participants\n",
      "Allies\n",
      "AxisCommanders and leaders\n",
      "Main Allied leaders:\n",
      " Joseph Stalin\n",
      " Franklin D. Roosevelt\n",
      " Winston Churchill\n",
      " Chiang Kai-shek\n",
      "\n",
      "Main Axis leaders:\n",
      " Adolf Hitler\n",
      " Hirohito\n",
      " Benito Mussolini\n",
      "Casualties and losses\n",
      "\n",
      "Military dead:\n",
      "Over 16,000,000\n",
      "Civilian dead:\n",
      "Over 45,000,000\n",
      "Total dead:\n",
      "Over 61,000,000\n",
      "(1937–1945)\n",
      "...further details\n",
      "\n",
      "\n",
      "Military dead:\n",
      "Over 8,000,000\n",
      "Civilian dead:\n",
      "Over 4,000,000\n",
      "Total dead:\n",
      "Over 12,000,000\n",
      "(1937–1945)\n",
      "...further details\n",
      "\n"
     ]
    }
   ],
   "source": [
    "ww2_contents=soup.find_all(\"div\",class_='toc')\n",
    "overview=soup.find_all('table',class_='infobox vevent')\n",
    "for z in overview:\n",
    "    \n",
    "    print(z.text)\n",
    "    "
   ]
  },
  {
   "cell_type": "code",
   "execution_count": null,
   "id": "2a1b1f37",
   "metadata": {},
   "outputs": [],
   "source": []
  }
 ],
 "metadata": {
  "kernelspec": {
   "display_name": "Python 3 (ipykernel)",
   "language": "python",
   "name": "python3"
  },
  "language_info": {
   "codemirror_mode": {
    "name": "ipython",
    "version": 3
   },
   "file_extension": ".py",
   "mimetype": "text/x-python",
   "name": "python",
   "nbconvert_exporter": "python",
   "pygments_lexer": "ipython3",
   "version": "3.7.15"
  }
 },
 "nbformat": 4,
 "nbformat_minor": 5
}
